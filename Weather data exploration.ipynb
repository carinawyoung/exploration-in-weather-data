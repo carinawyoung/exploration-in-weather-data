{
 "cells": [
  {
   "cell_type": "markdown",
   "metadata": {},
   "source": [
    "### Goal of this exploration:\n",
    "More practice and skill building in visualizing data using python.\n",
    "\n",
    "### Dataset:\n",
    "I wanted to focus on exploring data analysis options rather than data cleaning, so I found a dataset that was already clean with no missing values that looked like it could be fun play with. I enjoy weather data (maybe I missed a calling as a meteorologist?), so I chose this [data set](https://github.com/fivethirtyeight/data/tree/master/us-weather-history) from a FiveThirtyEight article titled [What 12 Months of Record-Setting Temperatures looks like across the U.S ](https://fivethirtyeight.com/features/what-12-months-of-record-setting-temperatures-looks-like-across-the-u-s/) "
   ]
  },
  {
   "cell_type": "markdown",
   "metadata": {},
   "source": [
    "-------------------------"
   ]
  },
  {
   "cell_type": "markdown",
   "metadata": {},
   "source": [
    "## Importing packages and data:"
   ]
  },
  {
   "cell_type": "code",
   "execution_count": 2,
   "metadata": {},
   "outputs": [],
   "source": [
    "# import packages that might be needed for analysis\n",
    "# I don't understand exactly what \"%matplotlib inline\" does, \n",
    "# but it was suggested in another analysis, so I will leave it for now in case I need it.\n",
    "\n",
    "import pandas as pd\n",
    "import numpy as np\n",
    "import matplotlib.pyplot as plt\n",
    "import seaborn as sns\n",
    "%matplotlib inline"
   ]
  },
  {
   "cell_type": "code",
   "execution_count": 3,
   "metadata": {},
   "outputs": [],
   "source": [
    "# import weather data csv files\n",
    "\n",
    "dfS = pd.read_csv(\"KSEA.csv\") #Seattle\n",
    "dfP = pd.read_csv(\"KPHX.csv\") #Phoenix\n",
    "dfI = pd.read_csv(\"KIND.csv\") #Indianapolis\n",
    "dfC = pd.read_csv(\"KCLT.csv\") #Charlotte\n",
    "dfLA = pd.read_csv(\"KCQT.csv\") #Los Angeles\n",
    "dfChi= pd.read_csv(\"KMDW.csv\") #Chicago\n",
    "dfNY = pd.read_csv(\"KNYC.csv\") #New York\n",
    "dfH = pd.read_csv(\"KHOU.csv\") #Houston\n",
    "dfPhi = pd.read_csv(\"KPHL.csv\") #Philadelphia\n",
    "dfJ = pd.read_csv(\"KJAX.csv\") #Jacksonville"
   ]
  },
  {
   "cell_type": "markdown",
   "metadata": {},
   "source": [
    "----"
   ]
  },
  {
   "cell_type": "markdown",
   "metadata": {},
   "source": [
    "## Exploring the data"
   ]
  },
  {
   "cell_type": "markdown",
   "metadata": {},
   "source": [
    "#### Step 1, figuring out what I have to play with using the Seattle dataset as my test data:\n",
    "Examining the structure of the datasets:\n"
   ]
  },
  {
   "cell_type": "code",
   "execution_count": 5,
   "metadata": {},
   "outputs": [
    {
     "data": {
      "text/html": [
       "<div>\n",
       "<style scoped>\n",
       "    .dataframe tbody tr th:only-of-type {\n",
       "        vertical-align: middle;\n",
       "    }\n",
       "\n",
       "    .dataframe tbody tr th {\n",
       "        vertical-align: top;\n",
       "    }\n",
       "\n",
       "    .dataframe thead th {\n",
       "        text-align: right;\n",
       "    }\n",
       "</style>\n",
       "<table border=\"1\" class=\"dataframe\">\n",
       "  <thead>\n",
       "    <tr style=\"text-align: right;\">\n",
       "      <th></th>\n",
       "      <th>date</th>\n",
       "      <th>actual_mean_temp</th>\n",
       "      <th>actual_min_temp</th>\n",
       "      <th>actual_max_temp</th>\n",
       "      <th>average_min_temp</th>\n",
       "      <th>average_max_temp</th>\n",
       "      <th>record_min_temp</th>\n",
       "      <th>record_max_temp</th>\n",
       "      <th>record_min_temp_year</th>\n",
       "      <th>record_max_temp_year</th>\n",
       "      <th>actual_precipitation</th>\n",
       "      <th>average_precipitation</th>\n",
       "      <th>record_precipitation</th>\n",
       "    </tr>\n",
       "  </thead>\n",
       "  <tbody>\n",
       "    <tr>\n",
       "      <th>0</th>\n",
       "      <td>2014-7-1</td>\n",
       "      <td>77</td>\n",
       "      <td>60</td>\n",
       "      <td>94</td>\n",
       "      <td>54</td>\n",
       "      <td>73</td>\n",
       "      <td>45</td>\n",
       "      <td>94</td>\n",
       "      <td>1948</td>\n",
       "      <td>2014</td>\n",
       "      <td>0.00</td>\n",
       "      <td>0.03</td>\n",
       "      <td>0.75</td>\n",
       "    </tr>\n",
       "    <tr>\n",
       "      <th>1</th>\n",
       "      <td>2014-7-2</td>\n",
       "      <td>70</td>\n",
       "      <td>58</td>\n",
       "      <td>81</td>\n",
       "      <td>54</td>\n",
       "      <td>73</td>\n",
       "      <td>43</td>\n",
       "      <td>93</td>\n",
       "      <td>1954</td>\n",
       "      <td>2015</td>\n",
       "      <td>0.00</td>\n",
       "      <td>0.03</td>\n",
       "      <td>0.50</td>\n",
       "    </tr>\n",
       "    <tr>\n",
       "      <th>2</th>\n",
       "      <td>2014-7-3</td>\n",
       "      <td>64</td>\n",
       "      <td>57</td>\n",
       "      <td>71</td>\n",
       "      <td>54</td>\n",
       "      <td>74</td>\n",
       "      <td>44</td>\n",
       "      <td>92</td>\n",
       "      <td>1954</td>\n",
       "      <td>2015</td>\n",
       "      <td>0.00</td>\n",
       "      <td>0.03</td>\n",
       "      <td>0.47</td>\n",
       "    </tr>\n",
       "    <tr>\n",
       "      <th>3</th>\n",
       "      <td>2014-7-4</td>\n",
       "      <td>66</td>\n",
       "      <td>57</td>\n",
       "      <td>75</td>\n",
       "      <td>54</td>\n",
       "      <td>74</td>\n",
       "      <td>43</td>\n",
       "      <td>92</td>\n",
       "      <td>1949</td>\n",
       "      <td>2015</td>\n",
       "      <td>0.00</td>\n",
       "      <td>0.03</td>\n",
       "      <td>0.57</td>\n",
       "    </tr>\n",
       "    <tr>\n",
       "      <th>4</th>\n",
       "      <td>2014-7-5</td>\n",
       "      <td>66</td>\n",
       "      <td>56</td>\n",
       "      <td>76</td>\n",
       "      <td>55</td>\n",
       "      <td>74</td>\n",
       "      <td>47</td>\n",
       "      <td>91</td>\n",
       "      <td>1951</td>\n",
       "      <td>1958</td>\n",
       "      <td>0.00</td>\n",
       "      <td>0.03</td>\n",
       "      <td>0.64</td>\n",
       "    </tr>\n",
       "    <tr>\n",
       "      <th>...</th>\n",
       "      <td>...</td>\n",
       "      <td>...</td>\n",
       "      <td>...</td>\n",
       "      <td>...</td>\n",
       "      <td>...</td>\n",
       "      <td>...</td>\n",
       "      <td>...</td>\n",
       "      <td>...</td>\n",
       "      <td>...</td>\n",
       "      <td>...</td>\n",
       "      <td>...</td>\n",
       "      <td>...</td>\n",
       "      <td>...</td>\n",
       "    </tr>\n",
       "    <tr>\n",
       "      <th>360</th>\n",
       "      <td>2015-6-26</td>\n",
       "      <td>77</td>\n",
       "      <td>64</td>\n",
       "      <td>89</td>\n",
       "      <td>53</td>\n",
       "      <td>72</td>\n",
       "      <td>46</td>\n",
       "      <td>90</td>\n",
       "      <td>1949</td>\n",
       "      <td>2006</td>\n",
       "      <td>0.00</td>\n",
       "      <td>0.03</td>\n",
       "      <td>0.32</td>\n",
       "    </tr>\n",
       "    <tr>\n",
       "      <th>361</th>\n",
       "      <td>2015-6-27</td>\n",
       "      <td>78</td>\n",
       "      <td>63</td>\n",
       "      <td>92</td>\n",
       "      <td>53</td>\n",
       "      <td>72</td>\n",
       "      <td>45</td>\n",
       "      <td>92</td>\n",
       "      <td>1949</td>\n",
       "      <td>2015</td>\n",
       "      <td>0.00</td>\n",
       "      <td>0.04</td>\n",
       "      <td>0.61</td>\n",
       "    </tr>\n",
       "    <tr>\n",
       "      <th>362</th>\n",
       "      <td>2015-6-28</td>\n",
       "      <td>74</td>\n",
       "      <td>65</td>\n",
       "      <td>83</td>\n",
       "      <td>54</td>\n",
       "      <td>72</td>\n",
       "      <td>45</td>\n",
       "      <td>91</td>\n",
       "      <td>1949</td>\n",
       "      <td>1995</td>\n",
       "      <td>0.01</td>\n",
       "      <td>0.04</td>\n",
       "      <td>0.79</td>\n",
       "    </tr>\n",
       "    <tr>\n",
       "      <th>363</th>\n",
       "      <td>2015-6-29</td>\n",
       "      <td>74</td>\n",
       "      <td>63</td>\n",
       "      <td>84</td>\n",
       "      <td>54</td>\n",
       "      <td>73</td>\n",
       "      <td>45</td>\n",
       "      <td>93</td>\n",
       "      <td>1949</td>\n",
       "      <td>1987</td>\n",
       "      <td>0.00</td>\n",
       "      <td>0.03</td>\n",
       "      <td>0.64</td>\n",
       "    </tr>\n",
       "    <tr>\n",
       "      <th>364</th>\n",
       "      <td>2015-6-30</td>\n",
       "      <td>73</td>\n",
       "      <td>59</td>\n",
       "      <td>87</td>\n",
       "      <td>54</td>\n",
       "      <td>73</td>\n",
       "      <td>43</td>\n",
       "      <td>96</td>\n",
       "      <td>1949</td>\n",
       "      <td>1995</td>\n",
       "      <td>0.00</td>\n",
       "      <td>0.04</td>\n",
       "      <td>0.84</td>\n",
       "    </tr>\n",
       "  </tbody>\n",
       "</table>\n",
       "<p>365 rows × 13 columns</p>\n",
       "</div>"
      ],
      "text/plain": [
       "          date  actual_mean_temp  actual_min_temp  actual_max_temp  \\\n",
       "0     2014-7-1                77               60               94   \n",
       "1     2014-7-2                70               58               81   \n",
       "2     2014-7-3                64               57               71   \n",
       "3     2014-7-4                66               57               75   \n",
       "4     2014-7-5                66               56               76   \n",
       "..         ...               ...              ...              ...   \n",
       "360  2015-6-26                77               64               89   \n",
       "361  2015-6-27                78               63               92   \n",
       "362  2015-6-28                74               65               83   \n",
       "363  2015-6-29                74               63               84   \n",
       "364  2015-6-30                73               59               87   \n",
       "\n",
       "     average_min_temp  average_max_temp  record_min_temp  record_max_temp  \\\n",
       "0                  54                73               45               94   \n",
       "1                  54                73               43               93   \n",
       "2                  54                74               44               92   \n",
       "3                  54                74               43               92   \n",
       "4                  55                74               47               91   \n",
       "..                ...               ...              ...              ...   \n",
       "360                53                72               46               90   \n",
       "361                53                72               45               92   \n",
       "362                54                72               45               91   \n",
       "363                54                73               45               93   \n",
       "364                54                73               43               96   \n",
       "\n",
       "     record_min_temp_year  record_max_temp_year  actual_precipitation  \\\n",
       "0                    1948                  2014                  0.00   \n",
       "1                    1954                  2015                  0.00   \n",
       "2                    1954                  2015                  0.00   \n",
       "3                    1949                  2015                  0.00   \n",
       "4                    1951                  1958                  0.00   \n",
       "..                    ...                   ...                   ...   \n",
       "360                  1949                  2006                  0.00   \n",
       "361                  1949                  2015                  0.00   \n",
       "362                  1949                  1995                  0.01   \n",
       "363                  1949                  1987                  0.00   \n",
       "364                  1949                  1995                  0.00   \n",
       "\n",
       "     average_precipitation  record_precipitation  \n",
       "0                     0.03                  0.75  \n",
       "1                     0.03                  0.50  \n",
       "2                     0.03                  0.47  \n",
       "3                     0.03                  0.57  \n",
       "4                     0.03                  0.64  \n",
       "..                     ...                   ...  \n",
       "360                   0.03                  0.32  \n",
       "361                   0.04                  0.61  \n",
       "362                   0.04                  0.79  \n",
       "363                   0.03                  0.64  \n",
       "364                   0.04                  0.84  \n",
       "\n",
       "[365 rows x 13 columns]"
      ]
     },
     "execution_count": 5,
     "metadata": {},
     "output_type": "execute_result"
    }
   ],
   "source": [
    "dfS"
   ]
  },
  {
   "cell_type": "code",
   "execution_count": 4,
   "metadata": {},
   "outputs": [
    {
     "name": "stdout",
     "output_type": "stream",
     "text": [
      "<class 'pandas.core.frame.DataFrame'>\n",
      "RangeIndex: 365 entries, 0 to 364\n",
      "Data columns (total 13 columns):\n",
      " #   Column                 Non-Null Count  Dtype  \n",
      "---  ------                 --------------  -----  \n",
      " 0   date                   365 non-null    object \n",
      " 1   actual_mean_temp       365 non-null    int64  \n",
      " 2   actual_min_temp        365 non-null    int64  \n",
      " 3   actual_max_temp        365 non-null    int64  \n",
      " 4   average_min_temp       365 non-null    int64  \n",
      " 5   average_max_temp       365 non-null    int64  \n",
      " 6   record_min_temp        365 non-null    int64  \n",
      " 7   record_max_temp        365 non-null    int64  \n",
      " 8   record_min_temp_year   365 non-null    int64  \n",
      " 9   record_max_temp_year   365 non-null    int64  \n",
      " 10  actual_precipitation   365 non-null    float64\n",
      " 11  average_precipitation  365 non-null    float64\n",
      " 12  record_precipitation   365 non-null    float64\n",
      "dtypes: float64(3), int64(9), object(1)\n",
      "memory usage: 37.2+ KB\n"
     ]
    }
   ],
   "source": [
    "dfS.info()"
   ]
  },
  {
   "cell_type": "code",
   "execution_count": 10,
   "metadata": {},
   "outputs": [
    {
     "data": {
      "text/plain": [
       "0       2014-7-1\n",
       "1       2014-7-2\n",
       "2       2014-7-3\n",
       "3       2014-7-4\n",
       "4       2014-7-5\n",
       "         ...    \n",
       "360    2015-6-26\n",
       "361    2015-6-27\n",
       "362    2015-6-28\n",
       "363    2015-6-29\n",
       "364    2015-6-30\n",
       "Name: date, Length: 365, dtype: object"
      ]
     },
     "execution_count": 10,
     "metadata": {},
     "output_type": "execute_result"
    }
   ],
   "source": [
    "date_range = dfS['date']\n",
    "date_range"
   ]
  },
  {
   "cell_type": "markdown",
   "metadata": {},
   "source": [
    "Looks like I've got lots of quantitative data, and the data run from July 1, 2014 to June 20, 2015"
   ]
  },
  {
   "cell_type": "markdown",
   "metadata": {},
   "source": [
    "----"
   ]
  },
  {
   "cell_type": "markdown",
   "metadata": {},
   "source": [
    "## Question 1: The range of the temperatures in a location may vary, but where do the bulk of the year's temperatures lie? \n",
    "(i.e. If you live here, what will most of your days temperatures look like?)"
   ]
  },
  {
   "cell_type": "markdown",
   "metadata": {},
   "source": [
    "To figure this out, I counted the frequency of each mean temperature and graphed it in a histogram for each location. For example, here is Los Angeles:"
   ]
  },
  {
   "cell_type": "code",
   "execution_count": 14,
   "metadata": {},
   "outputs": [
    {
     "data": {
      "image/png": "[encoded data removed]",
      "text/plain": [
       "<Figure size 432x288 with 1 Axes>"
      ]
     },
     "metadata": {
      "needs_background": "light"
     },
     "output_type": "display_data"
    }
   ],
   "source": [
    "y = dfLA[['actual_mean_temp']].assign(city='Los Angeles')\n",
    "ax = sns.histplot(data=y, x='actual_mean_temp', hue='city', binwidth=.5)"
   ]
  },
  {
   "cell_type": "markdown",
   "metadata": {},
   "source": [
    "And Houston:"
   ]
  },
  {
   "cell_type": "code",
   "execution_count": 13,
   "metadata": {
    "scrolled": true
   },
   "outputs": [
    {
     "data": {
      "image/png": "[encoded data removed]",
      "text/plain": [
       "<Figure size 432x288 with 1 Axes>"
      ]
     },
     "metadata": {
      "needs_background": "light"
     },
     "output_type": "display_data"
    }
   ],
   "source": [
    "y = dfH[['actual_mean_temp']].assign(city='Houston')\n",
    "ax = sns.histplot(data=y, x='actual_mean_temp', hue='city', binwidth=.5)"
   ]
  },
  {
   "cell_type": "markdown",
   "metadata": {},
   "source": [
    "The count of average temperatures in L.A. have a somewhat bell-shaped curve with a relatively small range, while temps in Houston are skewed left over a wider range. I had always thought of Los Angelos as a hot city, but those mean temperatures for L.A. look pretty fantastic.  "
   ]
  },
  {
   "cell_type": "markdown",
   "metadata": {},
   "source": [
    "### Additional stuff I'd like to work on here: "
   ]
  },
  {
   "cell_type": "markdown",
   "metadata": {},
   "source": [
    "Make one visual with a bunch of panels, with each panel being mean temperatures in an individual city, and adjust the x-axis temperature range on each panel to be the same, to allow for easier visualization of city differences. "
   ]
  },
  {
   "cell_type": "markdown",
   "metadata": {},
   "source": [
    "---------------------------------------------------------------------------"
   ]
  },
  {
   "cell_type": "markdown",
   "metadata": {},
   "source": [
    "## Question 2: How do mean temperatures compare between cities?"
   ]
  },
  {
   "cell_type": "markdown",
   "metadata": {},
   "source": [
    "Looking at individual cities is great, but I wanted to be able to directly compare two cities on the same histogram. After several hours of searching and lots of testing code, I still could not get two cities onto one graph in a way that was visually useful. So I turned to the crowd at stackoverflow, who solved [my question](https://stackoverflow.com/questions/67753461/how-do-i-plot-weather-data-from-two-data-sets-on-one-bar-graph-using-python/67755029#67755029) within a couple of hours. Whoever created that site deserves a medal with \"You made the world a better place, and developers everywhere thank you!\" engraved on it.\n",
    "\n",
    "Here's how they suggested I make the histogram:"
   ]
  },
  {
   "cell_type": "code",
   "execution_count": 15,
   "metadata": {},
   "outputs": [
    {
     "data": {
      "image/png": "[encoded data removed]",
      "text/plain": [
       "<Figure size 432x288 with 1 Axes>"
      ]
     },
     "metadata": {
      "needs_background": "light"
     },
     "output_type": "display_data"
    }
   ],
   "source": [
    "z = pd.concat([\n",
    "    dfS[['actual_mean_temp']].assign(city='Seattle'),\n",
    "    dfP[['actual_mean_temp']].assign(city='Phoenix'),\n",
    "])\n",
    "\n",
    "ax = sns.histplot(data=z, x='actual_mean_temp', hue ='city',\n",
    "                   multiple='dodge', binwidth=.5)"
   ]
  },
  {
   "cell_type": "markdown",
   "metadata": {},
   "source": [
    "### Additional stuff I'd like to work on here: "
   ]
  },
  {
   "cell_type": "markdown",
   "metadata": {},
   "source": [
    "Similar to the additional work on single cities, I'd like to make one visual with panels comparing each city with every other.\n",
    "\n",
    "I suppose I could run some t-tests on the comparison of the mean temps just to quantify the similarity/difference between the two cities."
   ]
  },
  {
   "cell_type": "markdown",
   "metadata": {},
   "source": [
    "-------"
   ]
  },
  {
   "cell_type": "markdown",
   "metadata": {},
   "source": [
    "## Next steps:\n",
    "- Included in the data is the hottest year on record for each day. I'd like to graph the frequency of each year in the record data, and then see if there is a correlation between year and hottest record for each location. \n",
    "\n",
    "Something kind of like this, but with different x-axis label, and maybe as a scatterplot:  "
   ]
  },
  {
   "cell_type": "code",
   "execution_count": 7,
   "metadata": {},
   "outputs": [
    {
     "data": {
      "text/plain": [
       "<AxesSubplot:>"
      ]
     },
     "execution_count": 7,
     "metadata": {},
     "output_type": "execute_result"
    },
    {
     "data": {
      "image/png": "[encoded data removed]",
      "text/plain": [
       "<Figure size 432x288 with 1 Axes>"
      ]
     },
     "metadata": {
      "needs_background": "light"
     },
     "output_type": "display_data"
    }
   ],
   "source": [
    "dfP[\"record_max_temp_year\"].value_counts(sort = False).plot(kind='bar')"
   ]
  },
  {
   "cell_type": "markdown",
   "metadata": {},
   "source": [
    "- ^ That analysis would be more interesting with the most recent data, so I'd like to scraping the weather website to get updated data to analyze.\n",
    "- In addition to looking at the most recent data, I'd like to scrape the weather data of the airport closest to my home, and see how it compares to some of the other cities. Comparing precipitation levels could be fun too. "
   ]
  }
 ],
 "metadata": {
  "kernelspec": {
   "display_name": "Python 3",
   "language": "python",
   "name": "python3"
  },
  "language_info": {
   "codemirror_mode": {
    "name": "ipython",
    "version": 3
   },
   "file_extension": ".py",
   "mimetype": "text/x-python",
   "name": "python",
   "nbconvert_exporter": "python",
   "pygments_lexer": "ipython3",
   "version": "3.8.5"
  }
 },
 "nbformat": 4,
 "nbformat_minor": 4
}
